{
 "cells": [
  {
   "cell_type": "markdown",
   "metadata": {},
   "source": [
    "## ML Review and Gradient Descent Example"
   ]
  },
  {
   "cell_type": "markdown",
   "metadata": {
    "collapsed": true
   },
   "source": [
    "In this notebook, we will solve a simple linear regression problem by gradient descent.  \n",
    "We will see the effect of the learning rate on the trajectory in parameter space.\n",
    "We will show how Stochastic Gradient Descent (SGD) differs from the standard version, and the effect of \"shuffling\" your data during SGD."
   ]
  },
  {
   "cell_type": "code",
   "execution_count": 1,
   "metadata": {},
   "outputs": [],
   "source": [
    "# Preliminaries - packages to load\n",
    "\n",
    "from __future__ import print_function\n",
    "import numpy as np\n",
    "import pandas as pd\n",
    "import matplotlib.pyplot as plt\n",
    "from sklearn.linear_model import LinearRegression\n",
    "from sklearn.linear_model import SGDRegressor\n",
    "%matplotlib inline"
   ]
  },
  {
   "cell_type": "markdown",
   "metadata": {},
   "source": [
    "## Generate Data from a known distribution\n",
    "Below we will generate data a known distribution.  \n",
    "Specifically, the true model is:\n",
    "\n",
    "$Y = b + \\theta_1 X_1 + \\theta_2 X_2 + \\epsilon$\n",
    "\n",
    "$X_1$ and $X_2$ have a uniform distribution on the interval $[0,10]$, while `const` is a vector of ones (representing the intercept term).\n",
    "\n",
    "We set actual values for $b$ ,$\\theta_1$, and $\\theta_2$\n",
    "\n",
    "Here $b=1.5$, $\\theta_1=2$, and $\\theta_2=5$\n",
    "\n",
    "We then generate a vector of $y$-values according to the model and put the predictors together in a \"feature matrix\" `x_mat`"
   ]
  },
  {
   "cell_type": "code",
   "execution_count": 2,
   "metadata": {},
   "outputs": [
    {
     "name": "stdout",
     "output_type": "stream",
     "text": [
      "[2 5]\n",
      "[[1.24089281 6.0260189 ]\n",
      " [4.78174402 8.34655322]\n",
      " [0.11384211 1.62208482]\n",
      " [3.56271863 5.16554086]\n",
      " [1.95736731 9.36606892]\n",
      " [9.41376622 0.70686885]\n",
      " [3.77219036 1.15882685]\n",
      " [4.46585023 3.58595779]\n",
      " [4.53297792 3.72722649]\n",
      " [2.94032264 8.40249737]]\n",
      "[34.11188013 52.79625413  9.83810834 34.45314153 52.24507923 23.86187667\n",
      " 14.83851496 28.36148938 29.20208827 49.39313215]\n"
     ]
    }
   ],
   "source": [
    "# set seed for consistent random values\n",
    "np.random.seed(42)\n",
    "\n",
    "# assume these are the parameters we learned\n",
    "err_coeff = 1.5\n",
    "W = np.array([2, 5])\n",
    "\n",
    "# generate the dataset feature values # 1000 instances with 2 columns\n",
    "X = np.random.uniform(0, 10, (1000, 2))\n",
    "# calculate the output\n",
    "y = np.dot(X, W) + err_coeff\n",
    "\n",
    "print(W)\n",
    "print(X[:10])\n",
    "print(y[:10])"
   ]
  },
  {
   "cell_type": "markdown",
   "metadata": {},
   "source": [
    "## Get the \"Right\" answer directly\n",
    "In the below cells we solve for the optimal set of coefficients.  Note that even though the true model is given by:\n",
    "\n",
    "$b=1.5$, $\\theta_1=2$, and $\\theta_2=5$\n",
    "\n",
    "The maximum likelihood (least-squares) estimate from a finite data set may be slightly different."
   ]
  },
  {
   "cell_type": "markdown",
   "metadata": {
    "collapsed": true
   },
   "source": [
    "## Exercise:\n",
    "Solve the problem two ways: \n",
    "1. By using the scikit-learn LinearRegression model\n",
    "2. Using matrix algebra directly via the formula $\\theta = (X^T X)^{-1}X^Ty$\n",
    "\n",
    "Note: The scikit-learn solver may give a warning message, this can be ignored."
   ]
  },
  {
   "cell_type": "code",
   "execution_count": 3,
   "metadata": {},
   "outputs": [
    {
     "data": {
      "text/plain": [
       "array([2., 5.])"
      ]
     },
     "execution_count": 3,
     "metadata": {},
     "output_type": "execute_result"
    }
   ],
   "source": [
    "# sklearn\n",
    "model = LinearRegression()\n",
    "model.fit(X, y)\n",
    "\n",
    "model.coef_"
   ]
  },
  {
   "cell_type": "code",
   "execution_count": 4,
   "metadata": {},
   "outputs": [
    {
     "data": {
      "text/plain": [
       "array([2.13233157, 5.12259855])"
      ]
     },
     "execution_count": 4,
     "metadata": {},
     "output_type": "execute_result"
    }
   ],
   "source": [
    "# matrix algebra\n",
    "A = np.dot(X.T, X)\n",
    "B = np.dot(X.T, y)\n",
    "W_ = np.dot(np.linalg.inv(A), B)\n",
    "W_"
   ]
  },
  {
   "cell_type": "markdown",
   "metadata": {},
   "source": [
    "## Solving by Gradient Descent\n",
    "\n",
    "\n",
    "For most numerical problems, we don't / can't know the underlying analytical solution. This is because we only arrive at analytical solutions by solving the equations mathematically, with pen and paper. That is more often than not just impossible. Fortunately, we have a way of converging to an approximate solution, by using **Gradient Descent**.\n",
    "\n",
    "\n",
    "We will explore this very useful method because Neural Networks, along with many other complicated algorithms, are trained using Gradient Descent.  Seeing how gradient descent works on a simple example will build intuition and help us understand some of the nuances around setting the learning rate and other parameters.  We will also explore Stochastic Gradient Descent and compare its behavior to the standard approach."
   ]
  },
  {
   "cell_type": "markdown",
   "metadata": {},
   "source": [
    "## Exercise\n",
    "\n",
    "The next several cells have code to perform (full-batch) gradient descent.  We have omitted some parameters for you to fill in.\n",
    "\n",
    "1. Pick a learning rate, and a number of iterations, run the code, and then plot the trajectory of your gradient descent.\n",
    "1. Find examples where the learning rate is too high, too low, and \"just right\".\n",
    "1. Look at plots of loss function under these conditions.\n",
    "\n"
   ]
  },
  {
   "cell_type": "code",
   "execution_count": 39,
   "metadata": {},
   "outputs": [],
   "source": [
    "# returns history of loss function and weights over each iterations\n",
    "def gradient_descent(X, y, learning_rate=.01, num_iters=100):\n",
    "    history_weights = np.zeros((num_iters, 2))\n",
    "    history_loss = np.zeros(num_iters)\n",
    "    \n",
    "    num_records = X.shape[0]\n",
    "    \n",
    "    W = np.random.randn(X.shape[1]) # number of features\n",
    "    bias = 0\n",
    "    \n",
    "    for i in range(num_iters):\n",
    "        y_hat = np.dot(X, W) + bias\n",
    "        \n",
    "        # update the weights\n",
    "        W = W - (1 / num_records) * learning_rate * np.dot(X.T, y_hat - y)\n",
    "        history_weights[i, ] = W\n",
    "        \n",
    "        bias = bias - (learning_rate * np.sum(y_hat - y) / num_records)\n",
    "        \n",
    "        # calculate the new loss value\n",
    "        loss = .5 * num_records * np.sum(np.square(y_hat - y))\n",
    "        history_loss[i, ] = loss\n",
    "        \n",
    "    return W, err_coeff, history_weights, history_loss\n",
    "        "
   ]
  },
  {
   "cell_type": "code",
   "execution_count": 40,
   "metadata": {},
   "outputs": [
    {
     "name": "stdout",
     "output_type": "stream",
     "text": [
      "('weights: ', array([-4.82299392e+14, -4.75971677e+14]))\n"
     ]
    },
    {
     "data": {
      "text/plain": [
       "[<matplotlib.lines.Line2D at 0x1af05dd5240>]"
      ]
     },
     "execution_count": 40,
     "metadata": {},
     "output_type": "execute_result"
    },
    {
     "data": {
      "image/png": "[encoded data removed]",
      "text/plain": [
       "<Figure size 432x288 with 1 Axes>"
      ]
     },
     "metadata": {
      "needs_background": "light"
     },
     "output_type": "display_data"
    }
   ],
   "source": [
    "# too high\n",
    "W_, b, W_hist, loss_hist = gradient_descent(X, y, learning_rate=.04)\n",
    "print(('weights: ', W_))\n",
    "plt.plot(loss_hist)"
   ]
  },
  {
   "cell_type": "code",
   "execution_count": 41,
   "metadata": {},
   "outputs": [
    {
     "name": "stdout",
     "output_type": "stream",
     "text": [
      "('weights: ', array([-0.02465058, -0.00304459]))\n"
     ]
    },
    {
     "data": {
      "text/plain": [
       "[<matplotlib.lines.Line2D at 0x1af05e35748>]"
      ]
     },
     "execution_count": 41,
     "metadata": {},
     "output_type": "execute_result"
    },
    {
     "data": {
      "image/png": "[encoded data removed]",
      "text/plain": [
       "<Figure size 432x288 with 1 Axes>"
      ]
     },
     "metadata": {
      "needs_background": "light"
     },
     "output_type": "display_data"
    }
   ],
   "source": [
    "# too low\n",
    "W_, b, W_hist, loss_hist = gradient_descent(X, y, learning_rate=.00001)\n",
    "print(('weights: ', W_))\n",
    "plt.plot(loss_hist)"
   ]
  },
  {
   "cell_type": "code",
   "execution_count": 42,
   "metadata": {},
   "outputs": [
    {
     "name": "stdout",
     "output_type": "stream",
     "text": [
      "('weights: ', array([2.06248181, 5.0578276 ]))\n"
     ]
    },
    {
     "data": {
      "text/plain": [
       "[<matplotlib.lines.Line2D at 0x1af05e91d30>]"
      ]
     },
     "execution_count": 42,
     "metadata": {},
     "output_type": "execute_result"
    },
    {
     "data": {
      "image/png": "[encoded data removed]",
      "text/plain": [
       "<Figure size 432x288 with 1 Axes>"
      ]
     },
     "metadata": {
      "needs_background": "light"
     },
     "output_type": "display_data"
    }
   ],
   "source": [
    "# good learning rate\n",
    "W_, b, W_hist, loss_hist = gradient_descent(X, y, learning_rate=.0301)\n",
    "print(('weights: ', W_))\n",
    "plt.plot(loss_hist)"
   ]
  },
  {
   "cell_type": "markdown",
   "metadata": {},
   "source": [
    "## Stochastic Gradient Descent\n",
    "Rather than average the gradients across the whole dataset before taking a step, we will now take a step for every datapoint.  Each step will be somewhat of an \"overreaction\" but they should average out.  "
   ]
  },
  {
   "cell_type": "markdown",
   "metadata": {},
   "source": [
    "## Exercise\n",
    "The below code runs Stochastic Gradient descent, but runs through the data in the same order every time.  \n",
    "\n",
    "1. Run the code and plot the graphs.  What do you notice?\n",
    "2. Modify the code so that it randomly re-orders the data.  How do the sample trajectories compare?"
   ]
  },
  {
   "cell_type": "code",
   "execution_count": 43,
   "metadata": {},
   "outputs": [],
   "source": [
    "def stochastic_gradient_descent(X, y, learning_rate=.01, num_iters=100, sample_size=5, shuffle=False):\n",
    "    history_weights = np.zeros((num_iters, 2))\n",
    "    history_loss = np.zeros(num_iters)\n",
    "    \n",
    "    num_records = X.shape[0]\n",
    "    \n",
    "    W = np.random.randn(X.shape[1])\n",
    "    bias = 0\n",
    "    \n",
    "    # if shuffling\n",
    "    if shuffle:\n",
    "        # first columns will be features and last column will be the output (y)\n",
    "        dataset = np.hstack((X, y.reshape(-1, 1)))\n",
    "        np.random.shuffle(dataset)\n",
    "        X = dataset[:, :-1]\n",
    "        y = dataset[:, -1]\n",
    "    \n",
    "    \n",
    "    \n",
    "    for i in range(num_iters):\n",
    "        indexes = np.random.randint(num_records, size=sample_size)\n",
    "        X_sub = X[indexes]\n",
    "        y_sub = y[indexes]\n",
    "        \n",
    "        w_gradient = np.zeros((sample_size, 2))\n",
    "        bias_gradient = np.zeros(sample_size)\n",
    "        \n",
    "        y_hat = np.dot(X_sub, W) + bias\n",
    "                  \n",
    "        W = W - (1 / sample_size) * learning_rate * np.dot(X_sub.T, y_hat - y_sub)\n",
    "        bias = bias - (learning_rate * np.sum(y_hat - y_sub) / sample_size)\n",
    "        \n",
    "        history_weights[i, ] = W\n",
    "        loss = .5 * sample_size * np.sum(np.square(y_hat - y_sub))\n",
    "        history_loss[i, ] = loss\n",
    "            \n",
    "    \n",
    "    return W, bias, history_weights, history_loss"
   ]
  },
  {
   "cell_type": "markdown",
   "metadata": {},
   "source": [
    "Play with the parameters below and observe the trajectory it results in"
   ]
  },
  {
   "cell_type": "code",
   "execution_count": 46,
   "metadata": {},
   "outputs": [
    {
     "name": "stdout",
     "output_type": "stream",
     "text": [
      "('weights: ', array([1.82400122, 4.60088604]))\n"
     ]
    },
    {
     "data": {
      "text/plain": [
       "[<matplotlib.lines.Line2D at 0x1af05f6b208>]"
      ]
     },
     "execution_count": 46,
     "metadata": {},
     "output_type": "execute_result"
    },
    {
     "data": {
      "image/png": "[encoded data removed]",
      "text/plain": [
       "<Figure size 432x288 with 1 Axes>"
      ]
     },
     "metadata": {
      "needs_background": "light"
     },
     "output_type": "display_data"
    }
   ],
   "source": [
    "W_, b, W_hist, loss_hist = stochastic_gradient_descent(X, y, learning_rate = .0301, num_iters = 10, sample_size = 25, shuffle=False)\n",
    "print(('weights: ', W_))\n",
    "plt.plot(loss_hist)"
   ]
  },
  {
   "cell_type": "code",
   "execution_count": 47,
   "metadata": {},
   "outputs": [
    {
     "name": "stdout",
     "output_type": "stream",
     "text": [
      "('weights: ', array([1.78982173, 4.55985655]))\n"
     ]
    },
    {
     "data": {
      "text/plain": [
       "[<matplotlib.lines.Line2D at 0x1af05fb9f98>]"
      ]
     },
     "execution_count": 47,
     "metadata": {},
     "output_type": "execute_result"
    },
    {
     "data": {
      "image/png": "[encoded data removed]",
      "text/plain": [
       "<Figure size 432x288 with 1 Axes>"
      ]
     },
     "metadata": {
      "needs_background": "light"
     },
     "output_type": "display_data"
    }
   ],
   "source": [
    "W_, b, W_hist, loss_hist = stochastic_gradient_descent(X, y, learning_rate = .0301, num_iters = 10, sample_size = 25, shuffle=True)\n",
    "print(('weights: ', W_))\n",
    "plt.plot(loss_hist)"
   ]
  },
  {
   "cell_type": "code",
   "execution_count": null,
   "metadata": {},
   "outputs": [],
   "source": []
  }
 ],
 "metadata": {
  "kernelspec": {
   "display_name": "Python 3",
   "language": "python",
   "name": "python3"
  },
  "language_info": {
   "codemirror_mode": {
    "name": "ipython",
    "version": 3
   },
   "file_extension": ".py",
   "mimetype": "text/x-python",
   "name": "python",
   "nbconvert_exporter": "python",
   "pygments_lexer": "ipython3",
   "version": "3.6.5"
  }
 },
 "nbformat": 4,
 "nbformat_minor": 1
}

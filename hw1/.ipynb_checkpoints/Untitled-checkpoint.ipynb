{
 "cells": [
  {
   "cell_type": "code",
   "execution_count": 8,
   "metadata": {},
   "outputs": [],
   "source": [
    "import pandas as pd\n",
    "import numpy as np\n",
    "from sklearn.model_selection import train_test_split\n",
    "from sklearn.preprocessing import StandardScaler\n",
    "from sklearn.neural_network import MLPClassifier\n",
    "from sklearn.metrics import classification_report, confusion_matrix"
   ]
  },
  {
   "cell_type": "code",
   "execution_count": 9,
   "metadata": {},
   "outputs": [
    {
     "name": "stdout",
     "output_type": "stream",
     "text": [
      "(178, 14)\n"
     ]
    }
   ],
   "source": [
    "wine = pd.read_csv('wine.data', names = [\"Cultivator\", \"Alchol\", \"Malic_Acid\", \"Ash\", \"Alcalinity_of_Ash\", \"Magnesium\", \"Total_phenols\", \"Falvanoids\", \"Nonflavanoid_phenols\", \"Proanthocyanins\", \"Color_intensity\", \"Hue\", \"OD280\", \"Proline\"])\n",
    "print(wine.shape)\n",
    "wine.head()\n",
    "# set seed for consistent random values\n",
    "np.random.seed(42)"
   ]
  },
  {
   "cell_type": "code",
   "execution_count": 10,
   "metadata": {},
   "outputs": [],
   "source": [
    "X = wine.drop('Cultivator',axis=1)\n",
    "y = wine['Cultivator']"
   ]
  },
  {
   "cell_type": "code",
   "execution_count": 11,
   "metadata": {},
   "outputs": [],
   "source": [
    "def build_model(X, y, test_size):\n",
    "    # split dataset into traing and testing sets\n",
    "    X_train, X_test, y_train, y_test = train_test_split(X, y, test_size = test_size)\n",
    "\n",
    "    # normalize data\n",
    "    scaler = StandardScaler()\n",
    "    scaler.fit(X_train)\n",
    "    X_train = scaler.transform(X_train)\n",
    "    X_test = scaler.transform(X_test)\n",
    "    \n",
    "    \n",
    "    # build model & train\n",
    "    model = MLPClassifier(hidden_layer_sizes=(13,13,13), max_iter=500)\n",
    "    model.fit(X_train, y_train)\n",
    "    \n",
    "    # test model\n",
    "    y_hat = model.predict(X_test)\n",
    "    \n",
    "    confusion_mtx = confusion_matrix(y_test, y_hat)\n",
    "    classification_rpt = classification_report(y_test, y_hat)\n",
    "    \n",
    "    return model, confusion_mtx, classification_rpt\n"
   ]
  },
  {
   "cell_type": "code",
   "execution_count": 16,
   "metadata": {},
   "outputs": [
    {
     "name": "stdout",
     "output_type": "stream",
     "text": [
      "=============================\n",
      "Test size: 0.2\n",
      "=============================\n",
      "Confusion Matrix:\n",
      "[1 2 3]\n",
      "[[10  0  0]\n",
      " [ 0 17  1]\n",
      " [ 0  1  7]]\n",
      "Classification Report:\n",
      "              precision    recall  f1-score   support\n",
      "\n",
      "           1       1.00      1.00      1.00        10\n",
      "           2       0.94      0.94      0.94        18\n",
      "           3       0.88      0.88      0.88         8\n",
      "\n",
      "    accuracy                           0.94        36\n",
      "   macro avg       0.94      0.94      0.94        36\n",
      "weighted avg       0.94      0.94      0.94        36\n",
      "\n",
      "=============================\n",
      "Test size: 0.3\n",
      "=============================\n",
      "Confusion Matrix:\n",
      "[1 2 3]\n",
      "[[17  1  0]\n",
      " [ 0 22  0]\n",
      " [ 0  2 12]]\n",
      "Classification Report:\n",
      "              precision    recall  f1-score   support\n",
      "\n",
      "           1       1.00      0.94      0.97        18\n",
      "           2       0.88      1.00      0.94        22\n",
      "           3       1.00      0.86      0.92        14\n",
      "\n",
      "    accuracy                           0.94        54\n",
      "   macro avg       0.96      0.93      0.94        54\n",
      "weighted avg       0.95      0.94      0.94        54\n",
      "\n",
      "=============================\n",
      "Test size: 0.4\n",
      "=============================\n",
      "Confusion Matrix:\n",
      "[1 2 3]\n",
      "[[25  1  0]\n",
      " [ 1 23  0]\n",
      " [ 0  1 21]]\n",
      "Classification Report:\n",
      "              precision    recall  f1-score   support\n",
      "\n",
      "           1       0.96      0.96      0.96        26\n",
      "           2       0.92      0.96      0.94        24\n",
      "           3       1.00      0.95      0.98        22\n",
      "\n",
      "    accuracy                           0.96        72\n",
      "   macro avg       0.96      0.96      0.96        72\n",
      "weighted avg       0.96      0.96      0.96        72\n",
      "\n"
     ]
    }
   ],
   "source": [
    "test_sizes = [.2, .3, .4]\n",
    "\n",
    "for test_size in test_sizes:\n",
    "    print('=============================\\nTest size: {}\\n============================='.format(test_size))\n",
    "    model, cm, cr = build_model(X, y, test_size)\n",
    "    \n",
    "    # print('model weights: {}, model intercepts: {}'.format(model.coefs_, model.intercepts_))\n",
    "    print('Confusion Matrix:')\n",
    "    print(model.classes_)\n",
    "    print(cm)\n",
    "    print('Classification Report:')\n",
    "    print(cr)\n"
   ]
  },
  {
   "cell_type": "code",
   "execution_count": null,
   "metadata": {},
   "outputs": [],
   "source": []
  },
  {
   "cell_type": "code",
   "execution_count": null,
   "metadata": {},
   "outputs": [],
   "source": [
    "The confusion matrix shows the number of entries the model that were classified for each label.  We look at the diagonal line as the entries correctly labled (TP/TN) in the set, while any other cell shows as a mis-classification (FP/TN)."
   ]
  }
 ],
 "metadata": {
  "kernelspec": {
   "display_name": "Python 3",
   "language": "python",
   "name": "python3"
  },
  "language_info": {
   "codemirror_mode": {
    "name": "ipython",
    "version": 3
   },
   "file_extension": ".py",
   "mimetype": "text/x-python",
   "name": "python",
   "nbconvert_exporter": "python",
   "pygments_lexer": "ipython3",
   "version": "3.6.5"
  }
 },
 "nbformat": 4,
 "nbformat_minor": 4
}

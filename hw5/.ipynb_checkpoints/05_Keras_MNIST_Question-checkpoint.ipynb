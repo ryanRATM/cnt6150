{
 "cells": [
  {
   "cell_type": "markdown",
   "metadata": {},
   "source": [
    "## Handwritten Image Detection with Keras using MNIST data\n",
    "\n",
    "In this exercise we will work with image data: specifically the famous MNIST data set.  This data set contains 70,000 images of handwritten digits in grayscale (0=black, 255 = white).  The images are 28 pixels by 28 pixels for a total of 784 pixels.  This is quite small by image standards.  Also, the images are well centered and isolated.  This makes this problem solvable with standard fully connected neural nets without too much pre-work."
   ]
  },
  {
   "cell_type": "markdown",
   "metadata": {},
   "source": [
    "In the first part of this notebook, we will walk you through loading in the data, building a network, and training it.  Then it will be your turn to try different models and see if you can improve performance"
   ]
  },
  {
   "cell_type": "code",
   "execution_count": 12,
   "metadata": {},
   "outputs": [],
   "source": [
    "# Preliminaries\n",
    "\n",
    "from __future__ import print_function\n",
    "import tensorflow as tf\n",
    "from tensorflow import keras\n",
    "from tensorflow.keras.datasets import mnist\n",
    "from tensorflow.keras.models import Sequential\n",
    "from tensorflow.keras.layers import Dense, Dropout\n",
    "from tensorflow.keras.optimizers import RMSprop\n",
    "\n",
    "import numpy as np\n",
    "import matplotlib.pyplot as plt\n",
    "%matplotlib inline"
   ]
  },
  {
   "cell_type": "markdown",
   "metadata": {
    "collapsed": true
   },
   "source": [
    "Let's explore the dataset a little bit"
   ]
  },
  {
   "cell_type": "code",
   "execution_count": 6,
   "metadata": {},
   "outputs": [
    {
     "name": "stdout",
     "output_type": "stream",
     "text": [
      "Downloading data from https://storage.googleapis.com/tensorflow/tf-keras-datasets/mnist.npz\n",
      "11493376/11490434 [==============================] - 2s 0us/step\n"
     ]
    }
   ],
   "source": [
    "# Load the data, shuffled and split between train and test sets\n",
    "(x_train, y_train), (x_test, y_test) = mnist.load_data()"
   ]
  },
  {
   "cell_type": "code",
   "execution_count": 9,
   "metadata": {},
   "outputs": [
    {
     "data": {
      "text/plain": [
       "array([[  0,   0,   0,   0,   0,   0,   0,   0,   0,   0,   0,   0,   0,\n",
       "          0,   0,   0,   0,   0,   0,   0,   0,   0,   0,   0,   0,   0,\n",
       "          0,   0],\n",
       "       [  0,   0,   0,   0,   0,   0,   0,   0,   0,   0,   0,   0,   0,\n",
       "          0,   0,   0,   0,   0,   0,   0,   0,   0,   0,   0,   0,   0,\n",
       "          0,   0],\n",
       "       [  0,   0,   0,   0,   0,   0,   0,   0,   0,   0,   0,   0,   0,\n",
       "          0,   0,   0,   0,   0,   0,   0,   0,   0,   0,   0,   0,   0,\n",
       "          0,   0],\n",
       "       [  0,   0,   0,   0,   0,   0,   0,   0,   0,   0,   0,   0,   0,\n",
       "          0,   0,   0,   0,   0,   0,   0,   0,   0,   0,   0,   0,   0,\n",
       "          0,   0],\n",
       "       [  0,   0,   0,   0,   0,   0,   0,   0,   0,   0,   0,   0,   0,\n",
       "          0,   0,   0,   0,   0,   0,   0,   0,   0,   0,   0,   0,   0,\n",
       "          0,   0],\n",
       "       [  0,   0,   0,   0,   0,   0,   0,   0,   0,   0,   0,  87, 138,\n",
       "        170, 253, 201, 244, 212, 222, 138,  86,  22,   0,   0,   0,   0,\n",
       "          0,   0],\n",
       "       [  0,   0,   0,   0,   0,   0,   0,   0,   0,   0,  95, 253, 252,\n",
       "        252, 252, 252, 253, 252, 252, 252, 252, 245,  80,   0,   0,   0,\n",
       "          0,   0],\n",
       "       [  0,   0,   0,   0,   0,   0,   0,   0,   0,  68, 246, 205,  69,\n",
       "         69,  69,  69,  69,  69,  69,  69, 205, 253, 240,  50,   0,   0,\n",
       "          0,   0],\n",
       "       [  0,   0,   0,   0,   0,   0,   0,   0,   0, 187, 252, 218,  34,\n",
       "          0,   0,   0,   0,   0,   0,   0, 116, 253, 252,  69,   0,   0,\n",
       "          0,   0],\n",
       "       [  0,   0,   0,   0,   0,   0,   0,   0, 116, 248, 252, 253,  92,\n",
       "          0,   0,   0,   0,   0,   0,  95, 230, 253, 157,   6,   0,   0,\n",
       "          0,   0],\n",
       "       [  0,   0,   0,   0,   0,   0,   0,   0, 116, 249, 253, 189,  42,\n",
       "          0,   0,   0,   0,  36, 170, 253, 243, 158,   0,   0,   0,   0,\n",
       "          0,   0],\n",
       "       [  0,   0,   0,   0,   0,   0,   0,   0,   0, 133, 252, 245, 140,\n",
       "         34,   0,   0,  57, 219, 252, 235,  60,   0,   0,   0,   0,   0,\n",
       "          0,   0],\n",
       "       [  0,   0,   0,   0,   0,   0,   0,   0,   0,  25, 205, 253, 252,\n",
       "        234, 184, 184, 253, 240, 100,  44,   0,   0,   0,   0,   0,   0,\n",
       "          0,   0],\n",
       "       [  0,   0,   0,   0,   0,   0,   0,   0,   0,   0,  21, 161, 219,\n",
       "        252, 252, 252, 234,  37,   0,   0,   0,   0,   0,   0,   0,   0,\n",
       "          0,   0],\n",
       "       [  0,   0,   0,   0,   0,   0,   0,   0,   0,   0,   0,  11, 203,\n",
       "        252, 252, 252, 251, 135,   0,   0,   0,   0,   0,   0,   0,   0,\n",
       "          0,   0],\n",
       "       [  0,   0,   0,   0,   0,   0,   0,   0,   0,   9,  76, 255, 253,\n",
       "        205, 168, 220, 255, 253, 137,   5,   0,   0,   0,   0,   0,   0,\n",
       "          0,   0],\n",
       "       [  0,   0,   0,   0,   0,   0,   0,   0,   0, 114, 252, 249, 132,\n",
       "         25,   0,   0, 180, 252, 252,  45,   0,   0,   0,   0,   0,   0,\n",
       "          0,   0],\n",
       "       [  0,   0,   0,   0,   0,   0,   0,   0,  51, 220, 252, 199,   0,\n",
       "          0,   0,   0,  38, 186, 252, 154,   7,   0,   0,   0,   0,   0,\n",
       "          0,   0],\n",
       "       [  0,   0,   0,   0,   0,   0,   0,   0, 184, 252, 252,  21,   0,\n",
       "          0,   0,   0,   0,  67, 252, 252,  22,   0,   0,   0,   0,   0,\n",
       "          0,   0],\n",
       "       [  0,   0,   0,   0,   0,   0,   0,   0, 184, 252, 200,   0,   0,\n",
       "          0,   0,   0,   0,  47, 252, 252,  22,   0,   0,   0,   0,   0,\n",
       "          0,   0],\n",
       "       [  0,   0,   0,   0,   0,   0,   0,   0, 185, 253, 201,   0,   0,\n",
       "          0,   0,   0,   3, 118, 253, 245,  21,   0,   0,   0,   0,   0,\n",
       "          0,   0],\n",
       "       [  0,   0,   0,   0,   0,   0,   0,   0, 163, 252, 252,   0,   0,\n",
       "          0,   0,   0,  97, 252, 252,  87,   0,   0,   0,   0,   0,   0,\n",
       "          0,   0],\n",
       "       [  0,   0,   0,   0,   0,   0,   0,   0,  51, 240, 252, 123,  70,\n",
       "         70, 112, 184, 222, 252, 170,  13,   0,   0,   0,   0,   0,   0,\n",
       "          0,   0],\n",
       "       [  0,   0,   0,   0,   0,   0,   0,   0,   0, 165, 252, 253, 252,\n",
       "        252, 252, 252, 245, 139,  13,   0,   0,   0,   0,   0,   0,   0,\n",
       "          0,   0],\n",
       "       [  0,   0,   0,   0,   0,   0,   0,   0,   0,   9,  75, 253, 252,\n",
       "        221, 137, 137,  21,   0,   0,   0,   0,   0,   0,   0,   0,   0,\n",
       "          0,   0],\n",
       "       [  0,   0,   0,   0,   0,   0,   0,   0,   0,   0,   0,   0,   0,\n",
       "          0,   0,   0,   0,   0,   0,   0,   0,   0,   0,   0,   0,   0,\n",
       "          0,   0],\n",
       "       [  0,   0,   0,   0,   0,   0,   0,   0,   0,   0,   0,   0,   0,\n",
       "          0,   0,   0,   0,   0,   0,   0,   0,   0,   0,   0,   0,   0,\n",
       "          0,   0],\n",
       "       [  0,   0,   0,   0,   0,   0,   0,   0,   0,   0,   0,   0,   0,\n",
       "          0,   0,   0,   0,   0,   0,   0,   0,   0,   0,   0,   0,   0,\n",
       "          0,   0]], dtype=uint8)"
      ]
     },
     "execution_count": 9,
     "metadata": {},
     "output_type": "execute_result"
    }
   ],
   "source": [
    "#Let's just look at a particular example to see what is inside\n",
    "x_train[333]"
   ]
  },
  {
   "cell_type": "code",
   "execution_count": 10,
   "metadata": {},
   "outputs": [
    {
     "data": {
      "text/plain": [
       "8"
      ]
     },
     "execution_count": 10,
     "metadata": {},
     "output_type": "execute_result"
    }
   ],
   "source": [
    "# What is the corresponding label in the training set?\n",
    "y_train[333]"
   ]
  },
  {
   "cell_type": "code",
   "execution_count": 13,
   "metadata": {},
   "outputs": [
    {
     "data": {
      "text/plain": [
       "<matplotlib.image.AxesImage at 0x1a86f571080>"
      ]
     },
     "execution_count": 13,
     "metadata": {},
     "output_type": "execute_result"
    },
    {
     "data": {
      "image/png": "[encoded data removed]",
      "text/plain": [
       "<Figure size 432x288 with 1 Axes>"
      ]
     },
     "metadata": {
      "needs_background": "light"
     },
     "output_type": "display_data"
    }
   ],
   "source": [
    "# Let's see what this image actually looks like\n",
    "plt.imshow(x_train[333], cmap='Greys_r')"
   ]
  },
  {
   "cell_type": "code",
   "execution_count": 14,
   "metadata": {},
   "outputs": [
    {
     "name": "stdout",
     "output_type": "stream",
     "text": [
      "(60000, 28, 28) train samples\n",
      "(10000, 28, 28) test samples\n"
     ]
    }
   ],
   "source": [
    "# this is the shape of the np.array x_train\n",
    "# it is 3 dimensional.\n",
    "print(x_train.shape, 'train samples')\n",
    "print(x_test.shape, 'test samples')"
   ]
  },
  {
   "cell_type": "code",
   "execution_count": 15,
   "metadata": {},
   "outputs": [],
   "source": [
    "## For our purposes, these images are just a vector of 784 inputs, so let's convert\n",
    "x_train = x_train.reshape(len(x_train), 28*28)\n",
    "x_test  = x_test.reshape(len(x_test), 28*28)\n",
    "\n",
    "## Keras works with floats, so we must cast the numbers to floats\n",
    "x_train = x_train.astype('float32')\n",
    "x_test  = x_test.astype('float32')\n",
    "\n",
    "## Normalize the inputs so they are between 0 and 1\n",
    "x_train /= 255\n",
    "x_test  /= 255"
   ]
  },
  {
   "cell_type": "code",
   "execution_count": 16,
   "metadata": {},
   "outputs": [
    {
     "data": {
      "text/plain": [
       "array([0., 0., 0., 0., 0., 0., 0., 0., 1., 0.], dtype=float32)"
      ]
     },
     "execution_count": 16,
     "metadata": {},
     "output_type": "execute_result"
    }
   ],
   "source": [
    "# convert class vectors to binary class matrices\n",
    "num_classes = 10\n",
    "y_train = keras.utils.to_categorical(y_train, num_classes)\n",
    "y_test  = keras.utils.to_categorical(y_test, num_classes)\n",
    "\n",
    "# now the digit k is represented by a 1 in the kth entry (0-indexed) of the length 10 vector\n",
    "y_train[333]"
   ]
  },
  {
   "cell_type": "code",
   "execution_count": 34,
   "metadata": {},
   "outputs": [],
   "source": [
    "# We will build a model with two hidden layers of size 512\n",
    "# Fully connected inputs at each layer\n",
    "# We will use dropout of .2 to help regularize\n",
    "model_1 = Sequential([\n",
    "    Dense(64, activation='relu', input_shape=(784,)),\n",
    "    Dropout(.2),\n",
    "    Dense(64, activation='relu'),\n",
    "    Dropout(.2),\n",
    "    Dense(10, activation='softmax'),\n",
    "])"
   ]
  },
  {
   "cell_type": "code",
   "execution_count": 35,
   "metadata": {},
   "outputs": [
    {
     "name": "stdout",
     "output_type": "stream",
     "text": [
      "Model: \"sequential_3\"\n",
      "_________________________________________________________________\n",
      "Layer (type)                 Output Shape              Param #   \n",
      "=================================================================\n",
      "dense_9 (Dense)              (None, 64)                50240     \n",
      "_________________________________________________________________\n",
      "dropout_6 (Dropout)          (None, 64)                0         \n",
      "_________________________________________________________________\n",
      "dense_10 (Dense)             (None, 64)                4160      \n",
      "_________________________________________________________________\n",
      "dropout_7 (Dropout)          (None, 64)                0         \n",
      "_________________________________________________________________\n",
      "dense_11 (Dense)             (None, 10)                650       \n",
      "=================================================================\n",
      "Total params: 55,050\n",
      "Trainable params: 55,050\n",
      "Non-trainable params: 0\n",
      "_________________________________________________________________\n"
     ]
    }
   ],
   "source": [
    "## Note that this model has a LOT of parameters\n",
    "model_1.summary()"
   ]
  },
  {
   "cell_type": "code",
   "execution_count": 36,
   "metadata": {},
   "outputs": [],
   "source": [
    "# Let's compile the model\n",
    "learning_rate = .001\n",
    "model_1.compile(loss='categorical_crossentropy',\n",
    "               optimizer=RMSprop(lr=learning_rate),\n",
    "                metrics=['accuracy'])\n",
    "\n",
    "# note that `categorical cross entropy` is the natural generalization \n",
    "# of the loss function we had in binary classification case, to multi class case"
   ]
  },
  {
   "cell_type": "code",
   "execution_count": 37,
   "metadata": {},
   "outputs": [
    {
     "name": "stdout",
     "output_type": "stream",
     "text": [
      "Train on 60000 samples, validate on 10000 samples\n",
      "Epoch 1/30\n",
      "60000/60000 [==============================] - 2s 27us/sample - loss: 0.5181 - acc: 0.8453 - val_loss: 0.2012 - val_acc: 0.9414\n",
      "Epoch 2/30\n",
      "60000/60000 [==============================] - 2s 28us/sample - loss: 0.2534 - acc: 0.9261 - val_loss: 0.1541 - val_acc: 0.9549\n",
      "Epoch 3/30\n",
      "60000/60000 [==============================] - 1s 22us/sample - loss: 0.1991 - acc: 0.9421 - val_loss: 0.1236 - val_acc: 0.9629\n",
      "Epoch 4/30\n",
      "60000/60000 [==============================] - 1s 23us/sample - loss: 0.1684 - acc: 0.9505 - val_loss: 0.1166 - val_acc: 0.9652\n",
      "Epoch 5/30\n",
      "60000/60000 [==============================] - 1s 25us/sample - loss: 0.1513 - acc: 0.9552 - val_loss: 0.1112 - val_acc: 0.9682\n",
      "Epoch 6/30\n",
      "60000/60000 [==============================] - 2s 26us/sample - loss: 0.1410 - acc: 0.9585 - val_loss: 0.1008 - val_acc: 0.9714\n",
      "Epoch 7/30\n",
      "60000/60000 [==============================] - 1s 23us/sample - loss: 0.1325 - acc: 0.9610 - val_loss: 0.1022 - val_acc: 0.9718\n",
      "Epoch 8/30\n",
      "60000/60000 [==============================] - 1s 24us/sample - loss: 0.1281 - acc: 0.9628 - val_loss: 0.1063 - val_acc: 0.9704\n",
      "Epoch 9/30\n",
      "60000/60000 [==============================] - 1s 22us/sample - loss: 0.1219 - acc: 0.9636 - val_loss: 0.0989 - val_acc: 0.9726\n",
      "Epoch 10/30\n",
      "60000/60000 [==============================] - 2s 25us/sample - loss: 0.1124 - acc: 0.9663 - val_loss: 0.0952 - val_acc: 0.9720\n",
      "Epoch 11/30\n",
      "60000/60000 [==============================] - 1s 24us/sample - loss: 0.1134 - acc: 0.9663 - val_loss: 0.0988 - val_acc: 0.9739\n",
      "Epoch 12/30\n",
      "60000/60000 [==============================] - 1s 23us/sample - loss: 0.1087 - acc: 0.9682 - val_loss: 0.0949 - val_acc: 0.9743\n",
      "Epoch 13/30\n",
      "60000/60000 [==============================] - 1s 22us/sample - loss: 0.1024 - acc: 0.9706 - val_loss: 0.0972 - val_acc: 0.9745\n",
      "Epoch 14/30\n",
      "60000/60000 [==============================] - 1s 24us/sample - loss: 0.1020 - acc: 0.9698 - val_loss: 0.0990 - val_acc: 0.9733\n",
      "Epoch 15/30\n",
      "60000/60000 [==============================] - 1s 24us/sample - loss: 0.1007 - acc: 0.9717 - val_loss: 0.0987 - val_acc: 0.9725\n",
      "Epoch 16/30\n",
      "60000/60000 [==============================] - 1s 23us/sample - loss: 0.0956 - acc: 0.9718 - val_loss: 0.1007 - val_acc: 0.9740\n",
      "Epoch 17/30\n",
      "60000/60000 [==============================] - 1s 22us/sample - loss: 0.0942 - acc: 0.9724 - val_loss: 0.1027 - val_acc: 0.9732\n",
      "Epoch 18/30\n",
      "60000/60000 [==============================] - 1s 22us/sample - loss: 0.0920 - acc: 0.9724 - val_loss: 0.0966 - val_acc: 0.9758\n",
      "Epoch 19/30\n",
      "60000/60000 [==============================] - 2s 26us/sample - loss: 0.0933 - acc: 0.9731 - val_loss: 0.1027 - val_acc: 0.9751\n",
      "Epoch 20/30\n",
      "60000/60000 [==============================] - 1s 22us/sample - loss: 0.0931 - acc: 0.9730 - val_loss: 0.1033 - val_acc: 0.9757\n",
      "Epoch 21/30\n",
      "60000/60000 [==============================] - 1s 22us/sample - loss: 0.0932 - acc: 0.9726 - val_loss: 0.1013 - val_acc: 0.9747\n",
      "Epoch 22/30\n",
      "60000/60000 [==============================] - 1s 23us/sample - loss: 0.0882 - acc: 0.9740 - val_loss: 0.1020 - val_acc: 0.9758\n",
      "Epoch 23/30\n",
      "60000/60000 [==============================] - 2s 27us/sample - loss: 0.0888 - acc: 0.9743 - val_loss: 0.1068 - val_acc: 0.9750\n",
      "Epoch 24/30\n",
      "60000/60000 [==============================] - 2s 25us/sample - loss: 0.0879 - acc: 0.9752 - val_loss: 0.1069 - val_acc: 0.9744\n",
      "Epoch 25/30\n",
      "60000/60000 [==============================] - 1s 23us/sample - loss: 0.0857 - acc: 0.9746 - val_loss: 0.1047 - val_acc: 0.9751\n",
      "Epoch 26/30\n",
      "60000/60000 [==============================] - 1s 22us/sample - loss: 0.0841 - acc: 0.9755 - val_loss: 0.1114 - val_acc: 0.9755\n",
      "Epoch 27/30\n",
      "60000/60000 [==============================] - 1s 25us/sample - loss: 0.0858 - acc: 0.9753 - val_loss: 0.1050 - val_acc: 0.9772\n",
      "Epoch 28/30\n",
      "60000/60000 [==============================] - 1s 24us/sample - loss: 0.0825 - acc: 0.9759 - val_loss: 0.1071 - val_acc: 0.9757\n",
      "Epoch 29/30\n",
      "60000/60000 [==============================] - 1s 23us/sample - loss: 0.0842 - acc: 0.9753 - val_loss: 0.1116 - val_acc: 0.9753\n",
      "Epoch 30/30\n",
      "60000/60000 [==============================] - 1s 22us/sample - loss: 0.0812 - acc: 0.9762 - val_loss: 0.1117 - val_acc: 0.9766\n"
     ]
    }
   ],
   "source": [
    "# And now let's fit.\n",
    "batch_size = 128\n",
    "epochs = 30\n",
    "history_1 = model_1.fit(x_train, y_train,\n",
    "                       batch_size=batch_size,\n",
    "                       epochs=epochs,\n",
    "                       verbose=1,\n",
    "                       validation_data=(x_test, y_test))"
   ]
  },
  {
   "cell_type": "code",
   "execution_count": 38,
   "metadata": {},
   "outputs": [
    {
     "name": "stdout",
     "output_type": "stream",
     "text": [
      "Test loss: 0.11167453794864705\n",
      "Test accuracy: 0.9766\n"
     ]
    }
   ],
   "source": [
    "## We will use Keras evaluate function to evaluate performance on the test set\n",
    "score = model_1.evaluate(x_test, y_test, verbose=0)\n",
    "print('Test loss:', score[0])\n",
    "print('Test accuracy:', score[1])"
   ]
  },
  {
   "cell_type": "code",
   "execution_count": 39,
   "metadata": {},
   "outputs": [],
   "source": [
    "def plot_loss_accuracy(history):\n",
    "    fig = plt.figure(figsize=(12, 6))\n",
    "    ax = fig.add_subplot(1, 2, 1)\n",
    "    ax.plot(history.history[\"loss\"],'r-x', label=\"Train Loss\")\n",
    "    ax.plot(history.history[\"val_loss\"],'b-x', label=\"Validation Loss\")\n",
    "    ax.legend()\n",
    "    ax.set_title('cross_entropy loss')\n",
    "    ax.grid(True)\n",
    "\n",
    "\n",
    "    ax = fig.add_subplot(1, 2, 2)\n",
    "    ax.plot(history.history[\"acc\"],'r-x', label=\"Train Accuracy\")\n",
    "    ax.plot(history.history[\"val_acc\"],'b-x', label=\"Validation Accuracy\")\n",
    "    ax.legend()\n",
    "    ax.set_title('accuracy')\n",
    "    ax.grid(True)\n",
    "    \n",
    "\n"
   ]
  },
  {
   "cell_type": "markdown",
   "metadata": {},
   "source": [
    "This is reasonably good performance, but we can do even better!  Next you will build an even bigger network and compare the performance."
   ]
  },
  {
   "cell_type": "markdown",
   "metadata": {},
   "source": [
    "## Exercise\n",
    "### Your Turn: Build your own model\n",
    "Use the Keras \"Sequential\" functionality to build `model_2` with the following specifications:\n",
    "\n",
    "1. Two hidden layers.\n",
    "2. First hidden layer of size 400 and second of size 300\n",
    "3. Dropout of .4 at each layer\n",
    "4. How many parameters does your model have?  How does it compare with the previous model?\n",
    "4. Train this model for 20 epochs with RMSProp at a learning rate of .001 and a batch size of 128\n",
    "\n",
    "\n"
   ]
  },
  {
   "cell_type": "code",
   "execution_count": 40,
   "metadata": {},
   "outputs": [
    {
     "name": "stdout",
     "output_type": "stream",
     "text": [
      "Model: \"sequential_4\"\n",
      "_________________________________________________________________\n",
      "Layer (type)                 Output Shape              Param #   \n",
      "=================================================================\n",
      "dense_12 (Dense)             (None, 400)               314000    \n",
      "_________________________________________________________________\n",
      "dropout_8 (Dropout)          (None, 400)               0         \n",
      "_________________________________________________________________\n",
      "dense_13 (Dense)             (None, 300)               120300    \n",
      "_________________________________________________________________\n",
      "dropout_9 (Dropout)          (None, 300)               0         \n",
      "_________________________________________________________________\n",
      "dense_14 (Dense)             (None, 10)                3010      \n",
      "=================================================================\n",
      "Total params: 437,310\n",
      "Trainable params: 437,310\n",
      "Non-trainable params: 0\n",
      "_________________________________________________________________\n"
     ]
    }
   ],
   "source": [
    "### Build your model here\n",
    "model_2 = Sequential([\n",
    "    Dense(400, activation='relu', input_shape=(784,)),\n",
    "    Dropout(.4),\n",
    "    Dense(300, activation='relu'),\n",
    "    Dropout(.4),\n",
    "    Dense(10, activation='softmax'),\n",
    "])\n",
    "\n",
    "model_2.summary()\n",
    "# model_1: 55,050\n",
    "# mode_2: 437,310\n",
    "# this model has 382,260 params/weights to learn"
   ]
  },
  {
   "cell_type": "code",
   "execution_count": 41,
   "metadata": {},
   "outputs": [],
   "source": [
    "learning_rate = .001\n",
    "model_2.compile(loss='categorical_crossentropy',\n",
    "               optimizer=RMSprop(lr=learning_rate),\n",
    "                metrics=['accuracy'])"
   ]
  },
  {
   "cell_type": "markdown",
   "metadata": {},
   "source": [
    "## SOLUTION"
   ]
  },
  {
   "cell_type": "code",
   "execution_count": 42,
   "metadata": {},
   "outputs": [
    {
     "name": "stdout",
     "output_type": "stream",
     "text": [
      "Train on 60000 samples, validate on 10000 samples\n",
      "Epoch 1/20\n",
      "60000/60000 [==============================] - 4s 65us/sample - loss: 0.3235 - acc: 0.9013 - val_loss: 0.1217 - val_acc: 0.9606\n",
      "Epoch 2/20\n",
      "60000/60000 [==============================] - 4s 65us/sample - loss: 0.1492 - acc: 0.9560 - val_loss: 0.0946 - val_acc: 0.9706\n",
      "Epoch 3/20\n",
      "60000/60000 [==============================] - 4s 61us/sample - loss: 0.1171 - acc: 0.9654 - val_loss: 0.0777 - val_acc: 0.9765\n",
      "Epoch 4/20\n",
      "60000/60000 [==============================] - 4s 64us/sample - loss: 0.1038 - acc: 0.9695 - val_loss: 0.0829 - val_acc: 0.9771\n",
      "Epoch 5/20\n",
      "60000/60000 [==============================] - 4s 62us/sample - loss: 0.0909 - acc: 0.9735 - val_loss: 0.0788 - val_acc: 0.9787\n",
      "Epoch 6/20\n",
      "60000/60000 [==============================] - 4s 63us/sample - loss: 0.0845 - acc: 0.9769 - val_loss: 0.0759 - val_acc: 0.9801\n",
      "Epoch 7/20\n",
      "60000/60000 [==============================] - 4s 60us/sample - loss: 0.0786 - acc: 0.9776 - val_loss: 0.0766 - val_acc: 0.9798\n",
      "Epoch 8/20\n",
      "60000/60000 [==============================] - 4s 62us/sample - loss: 0.0711 - acc: 0.9793 - val_loss: 0.0756 - val_acc: 0.9806\n",
      "Epoch 9/20\n",
      "60000/60000 [==============================] - 4s 65us/sample - loss: 0.0715 - acc: 0.9798 - val_loss: 0.0869 - val_acc: 0.9799\n",
      "Epoch 10/20\n",
      "60000/60000 [==============================] - 4s 59us/sample - loss: 0.0662 - acc: 0.9817 - val_loss: 0.0847 - val_acc: 0.9803\n",
      "Epoch 11/20\n",
      "60000/60000 [==============================] - 4s 73us/sample - loss: 0.0646 - acc: 0.9824 - val_loss: 0.0826 - val_acc: 0.9817\n",
      "Epoch 12/20\n",
      "60000/60000 [==============================] - 4s 61us/sample - loss: 0.0620 - acc: 0.9833 - val_loss: 0.0904 - val_acc: 0.9811\n",
      "Epoch 13/20\n",
      "60000/60000 [==============================] - 4s 68us/sample - loss: 0.0638 - acc: 0.9828 - val_loss: 0.0863 - val_acc: 0.9820\n",
      "Epoch 14/20\n",
      "60000/60000 [==============================] - 4s 70us/sample - loss: 0.0606 - acc: 0.9839 - val_loss: 0.0868 - val_acc: 0.9839\n",
      "Epoch 15/20\n",
      "60000/60000 [==============================] - 4s 69us/sample - loss: 0.0580 - acc: 0.9850 - val_loss: 0.0925 - val_acc: 0.9824\n",
      "Epoch 16/20\n",
      "60000/60000 [==============================] - 4s 71us/sample - loss: 0.0555 - acc: 0.9861 - val_loss: 0.0925 - val_acc: 0.9820\n",
      "Epoch 17/20\n",
      "60000/60000 [==============================] - 4s 61us/sample - loss: 0.0539 - acc: 0.9861 - val_loss: 0.0907 - val_acc: 0.9835\n",
      "Epoch 18/20\n",
      "60000/60000 [==============================] - 4s 67us/sample - loss: 0.0510 - acc: 0.9868 - val_loss: 0.1052 - val_acc: 0.9832\n",
      "Epoch 19/20\n",
      "60000/60000 [==============================] - 4s 67us/sample - loss: 0.0528 - acc: 0.9866 - val_loss: 0.0994 - val_acc: 0.9843\n",
      "Epoch 20/20\n",
      "60000/60000 [==============================] - 4s 66us/sample - loss: 0.0515 - acc: 0.9872 - val_loss: 0.1041 - val_acc: 0.9832\n"
     ]
    }
   ],
   "source": [
    "batch_size = 128\n",
    "epochs = 20\n",
    "history_2 = model_2.fit(x_train, y_train,\n",
    "                       batch_size=batch_size,\n",
    "                       epochs=epochs,\n",
    "                       verbose=1,\n",
    "                       validation_data=(x_test, y_test))"
   ]
  },
  {
   "cell_type": "markdown",
   "metadata": {
    "collapsed": true
   },
   "source": [
    "## Think about the following questions\n",
    "\n",
    "1) How do model_1 and model_2 compare?  Which do you prefer?  If you were going to put one into production, which would you choose and why?\n",
    "\n",
    "2) Compare the trajectories of the loss function on the training set and test set for each model?  How do they compare?  What does that suggest about each model?  Do the same for accuracy?  Which do you think is more meaningful, the loss or the accuracy?\n",
    "\n",
    "3) Suggest an improvement to one of the models (changing structure, learning rate, number of epochs, etc.) that you think will result in a better model.  Try it out below?  Did it improve the performance?"
   ]
  },
  {
   "cell_type": "markdown",
   "metadata": {},
   "source": [
    "### 1)\n",
    "Using the metric outputs for both models' final epochs\n",
    "Model_1: ss: 0.0812 - acc: 0.9762 - val_loss: 0.1117 - val_acc: 0.9766\n",
    "Model_2: ss: 0.0515 - acc: 0.9872 - val_loss: 0.1041 - val_acc: 0.9832\n",
    "\n",
    "While model_2 does have a slightly larger accuracy and lower loss score, I would rather pick model_1 over model_2.  First looking at the number of parameters that must be learned, model_2 has almost 8 times the amount of parameters/weights more than model_1.  As a result training time will take longer, and as the dataset grows the difference in traiing time will become even larger.  \n",
    "\n",
    "Looking at the epoch logs from both models it does look like the loss scores between the training and validation set for model_2 begin to diverge rather than converge as seen with model_1's validations - diverge less.  While using dropout does help prevent to overfitting, due to a large number nodes its easy for overfitting to exist, a better solution to using only 2 layers with many nodes would be to have more layers with less nodes per layer.  This concept becomes significant when talking about CNNs."
   ]
  },
  {
   "cell_type": "markdown",
   "metadata": {},
   "source": [
    "### 2)\n",
    "Model_1's losses both follow a downward trend around about epoch #15 where the validation loss begins to rise again. However, while the validation does begin to rise we can expect some noise therefore we typically allow for some change in loss.  As a result, we dont flag a loss as a noticable change unless to passing a percentage change threshold.  \n",
    "Model_2's loss seems to diverge even earlier in the training phase. We end up seeing the gap between the training and validation sets widden at each epoch.\n",
    "\n",
    "Looking at each model's accuracy history it seems that model_1's training and validation accuracies converge, however, model_2's diverge with the training accuracy surpassing the validation accuracy. While its expected that validation sets wont perform to the same level as the training sets I believe if we were to continue running through the training set the validation metrics will get worse.\n",
    "\n",
    "While accuracy is a common metric there are many others used to compare models (precession, recall, F1).  Typically one would switch out which metric to use for comparing models based on requirements.  For instance if we are more worried about false positives we would want to compare models based on their precision score. Regardless of which metric one choose the loss function could be the same (we generally change it based on using a regression model, binary classifier, or multiclass classifier) therefore, in general I would rather use the loss score to compare models."
   ]
  },
  {
   "cell_type": "code",
   "execution_count": 45,
   "metadata": {},
   "outputs": [
    {
     "data": {
      "image/png": "[encoded data removed]",
      "text/plain": [
       "<Figure size 864x432 with 2 Axes>"
      ]
     },
     "metadata": {
      "needs_background": "light"
     },
     "output_type": "display_data"
    }
   ],
   "source": [
    "# model_1 history\n",
    "plot_loss_accuracy(history_1)"
   ]
  },
  {
   "cell_type": "code",
   "execution_count": 46,
   "metadata": {},
   "outputs": [
    {
     "data": {
      "image/png": "[encoded data removed]",
      "text/plain": [
       "<Figure size 864x432 with 2 Axes>"
      ]
     },
     "metadata": {
      "needs_background": "light"
     },
     "output_type": "display_data"
    }
   ],
   "source": [
    "# mode_2 history\n",
    "plot_loss_accuracy(history_2)"
   ]
  },
  {
   "cell_type": "markdown",
   "metadata": {},
   "source": [
    "### 3)\n",
    "* My biggest suggestion would be to build a CNN that handles 2D data rather than linear input."
   ]
  },
  {
   "cell_type": "code",
   "execution_count": 97,
   "metadata": {},
   "outputs": [
    {
     "name": "stdout",
     "output_type": "stream",
     "text": [
      "Model: \"sequential_18\"\n",
      "_________________________________________________________________\n",
      "Layer (type)                 Output Shape              Param #   \n",
      "=================================================================\n",
      "dense_59 (Dense)             (None, 128)               100480    \n",
      "_________________________________________________________________\n",
      "dropout_41 (Dropout)         (None, 128)               0         \n",
      "_________________________________________________________________\n",
      "dense_60 (Dense)             (None, 128)               16512     \n",
      "_________________________________________________________________\n",
      "dropout_42 (Dropout)         (None, 128)               0         \n",
      "_________________________________________________________________\n",
      "dense_61 (Dense)             (None, 10)                1290      \n",
      "=================================================================\n",
      "Total params: 118,282\n",
      "Trainable params: 118,282\n",
      "Non-trainable params: 0\n",
      "_________________________________________________________________\n"
     ]
    }
   ],
   "source": [
    "model_3 = Sequential([\n",
    "    Dense(128, activation='relu', input_shape=(784,)),\n",
    "    Dropout(.3),\n",
    "    Dense(128, activation='relu'),\n",
    "    Dropout(.3),\n",
    "    Dense(10, activation='softmax'),\n",
    "])\n",
    "\n",
    "\n",
    "model_3.summary()\n"
   ]
  },
  {
   "cell_type": "code",
   "execution_count": 98,
   "metadata": {},
   "outputs": [],
   "source": [
    "learning_rate = .001\n",
    "model_3.compile(loss='categorical_crossentropy',\n",
    "               optimizer=RMSprop(lr=learning_rate),\n",
    "                metrics=['accuracy'])"
   ]
  },
  {
   "cell_type": "code",
   "execution_count": 99,
   "metadata": {},
   "outputs": [
    {
     "name": "stdout",
     "output_type": "stream",
     "text": [
      "Train on 60000 samples, validate on 10000 samples\n",
      "Epoch 1/20\n",
      "60000/60000 [==============================] - 3s 52us/sample - loss: 0.4263 - acc: 0.8721 - val_loss: 0.1626 - val_acc: 0.9521\n",
      "Epoch 2/20\n",
      "60000/60000 [==============================] - 3s 44us/sample - loss: 0.2055 - acc: 0.9397 - val_loss: 0.1207 - val_acc: 0.9608\n",
      "Epoch 3/20\n",
      "60000/60000 [==============================] - 3s 46us/sample - loss: 0.1593 - acc: 0.9530 - val_loss: 0.1009 - val_acc: 0.9695\n",
      "Epoch 4/20\n",
      "60000/60000 [==============================] - 3s 42us/sample - loss: 0.1381 - acc: 0.9597 - val_loss: 0.0975 - val_acc: 0.9704\n",
      "Epoch 5/20\n",
      "60000/60000 [==============================] - 3s 44us/sample - loss: 0.1219 - acc: 0.9643 - val_loss: 0.0853 - val_acc: 0.9748\n",
      "Epoch 6/20\n",
      "60000/60000 [==============================] - 2s 41us/sample - loss: 0.1110 - acc: 0.9668 - val_loss: 0.0812 - val_acc: 0.9764\n",
      "Epoch 7/20\n",
      "60000/60000 [==============================] - 2s 41us/sample - loss: 0.1055 - acc: 0.9687 - val_loss: 0.0818 - val_acc: 0.9757\n",
      "Epoch 8/20\n",
      "60000/60000 [==============================] - 2s 41us/sample - loss: 0.1006 - acc: 0.9704 - val_loss: 0.0770 - val_acc: 0.9785\n",
      "Epoch 9/20\n",
      "60000/60000 [==============================] - 2s 40us/sample - loss: 0.0910 - acc: 0.9730 - val_loss: 0.0834 - val_acc: 0.9785\n",
      "Epoch 10/20\n",
      "60000/60000 [==============================] - 3s 43us/sample - loss: 0.0895 - acc: 0.9736 - val_loss: 0.0841 - val_acc: 0.9778\n",
      "Epoch 11/20\n",
      "60000/60000 [==============================] - 2s 40us/sample - loss: 0.0870 - acc: 0.9742 - val_loss: 0.0868 - val_acc: 0.9783\n",
      "Epoch 12/20\n",
      "60000/60000 [==============================] - 2s 40us/sample - loss: 0.0846 - acc: 0.9757 - val_loss: 0.0827 - val_acc: 0.9791\n",
      "Epoch 13/20\n",
      "60000/60000 [==============================] - 3s 43us/sample - loss: 0.0834 - acc: 0.9757 - val_loss: 0.0862 - val_acc: 0.9780\n",
      "Epoch 14/20\n",
      "60000/60000 [==============================] - 2s 40us/sample - loss: 0.0783 - acc: 0.9769 - val_loss: 0.0845 - val_acc: 0.9790\n",
      "Epoch 15/20\n",
      "60000/60000 [==============================] - 3s 42us/sample - loss: 0.0795 - acc: 0.9775 - val_loss: 0.0896 - val_acc: 0.9784\n",
      "Epoch 16/20\n",
      "60000/60000 [==============================] - 2s 41us/sample - loss: 0.0765 - acc: 0.9777 - val_loss: 0.0900 - val_acc: 0.9773\n",
      "Epoch 17/20\n",
      "60000/60000 [==============================] - 2s 40us/sample - loss: 0.0747 - acc: 0.9797 - val_loss: 0.0891 - val_acc: 0.9802\n",
      "Epoch 18/20\n",
      "60000/60000 [==============================] - 3s 42us/sample - loss: 0.0735 - acc: 0.9797 - val_loss: 0.0921 - val_acc: 0.9787\n",
      "Epoch 19/20\n",
      "60000/60000 [==============================] - 2s 40us/sample - loss: 0.0728 - acc: 0.9794 - val_loss: 0.0884 - val_acc: 0.9801\n",
      "Epoch 20/20\n",
      "60000/60000 [==============================] - 2s 41us/sample - loss: 0.0701 - acc: 0.9807 - val_loss: 0.0984 - val_acc: 0.9791\n"
     ]
    }
   ],
   "source": [
    "batch_size = 128\n",
    "epochs = 20\n",
    "history_3 = model_3.fit(x_train, y_train,\n",
    "                       batch_size=batch_size,\n",
    "                       epochs=epochs,\n",
    "                       verbose=1,\n",
    "                       validation_data=(x_test, y_test))"
   ]
  },
  {
   "cell_type": "code",
   "execution_count": 100,
   "metadata": {},
   "outputs": [
    {
     "data": {
      "image/png": "[encoded data removed]",
      "text/plain": [
       "<Figure size 864x432 with 2 Axes>"
      ]
     },
     "metadata": {
      "needs_background": "light"
     },
     "output_type": "display_data"
    }
   ],
   "source": [
    "plot_loss_accuracy(history_3)"
   ]
  },
  {
   "cell_type": "code",
   "execution_count": null,
   "metadata": {},
   "outputs": [],
   "source": []
  }
 ],
 "metadata": {
  "kernelspec": {
   "display_name": "Python 3",
   "language": "python",
   "name": "python3"
  },
  "language_info": {
   "codemirror_mode": {
    "name": "ipython",
    "version": 3
   },
   "file_extension": ".py",
   "mimetype": "text/x-python",
   "name": "python",
   "nbconvert_exporter": "python",
   "pygments_lexer": "ipython3",
   "version": "3.6.5"
  }
 },
 "nbformat": 4,
 "nbformat_minor": 1
}

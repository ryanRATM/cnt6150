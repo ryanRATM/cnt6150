{
 "cells": [
  {
   "cell_type": "markdown",
   "metadata": {},
   "source": [
    "## Handwritten Image Detection with Keras using MNIST data\n",
    "\n",
    "In this exercise we will work with image data: specifically the famous MNIST data set.  This data set contains 70,000 images of handwritten digits in grayscale (0=black, 255 = white).  The images are 28 pixels by 28 pixels for a total of 784 pixels.  This is quite small by image standards.  Also, the images are well centered and isolated.  This makes this problem solvable with standard fully connected neural nets without too much pre-work."
   ]
  },
  {
   "cell_type": "markdown",
   "metadata": {},
   "source": [
    "In the first part of this notebook, we will walk you through loading in the data, building a network, and training it.  Then it will be your turn to try different models and see if you can improve performance"
   ]
  },
  {
   "cell_type": "code",
   "execution_count": 12,
   "metadata": {},
   "outputs": [],
   "source": [
    "# Preliminaries\n",
    "\n",
    "from __future__ import print_function\n",
    "import tensorflow as tf\n",
    "from tensorflow import keras\n",
    "from tensorflow.keras.datasets import mnist\n",
    "from tensorflow.keras.models import Sequential\n",
    "from tensorflow.keras.layers import Dense, Dropout\n",
    "from tensorflow.keras.optimizers import RMSprop\n",
    "\n",
    "import numpy as np\n",
    "import matplotlib.pyplot as plt\n",
    "%matplotlib inline"
   ]
  },
  {
   "cell_type": "markdown",
   "metadata": {
    "collapsed": true
   },
   "source": [
    "Let's explore the dataset a little bit"
   ]
  },
  {
   "cell_type": "code",
   "execution_count": 6,
   "metadata": {},
   "outputs": [
    {
     "name": "stdout",
     "output_type": "stream",
     "text": [
      "Downloading data from https://storage.googleapis.com/tensorflow/tf-keras-datasets/mnist.npz\n",
      "11493376/11490434 [==============================] - 2s 0us/step\n"
     ]
    }
   ],
   "source": [
    "# Load the data, shuffled and split between train and test sets\n",
    "(x_train, y_train), (x_test, y_test) = mnist.load_data()"
   ]
  },
  {
   "cell_type": "code",
   "execution_count": 9,
   "metadata": {},
   "outputs": [
    {
     "data": {
      "text/plain": [
       "array([[  0,   0,   0,   0,   0,   0,   0,   0,   0,   0,   0,   0,   0,\n",
       "          0,   0,   0,   0,   0,   0,   0,   0,   0,   0,   0,   0,   0,\n",
       "          0,   0],\n",
       "       [  0,   0,   0,   0,   0,   0,   0,   0,   0,   0,   0,   0,   0,\n",
       "          0,   0,   0,   0,   0,   0,   0,   0,   0,   0,   0,   0,   0,\n",
       "          0,   0],\n",
       "       [  0,   0,   0,   0,   0,   0,   0,   0,   0,   0,   0,   0,   0,\n",
       "          0,   0,   0,   0,   0,   0,   0,   0,   0,   0,   0,   0,   0,\n",
       "          0,   0],\n",
       "       [  0,   0,   0,   0,   0,   0,   0,   0,   0,   0,   0,   0,   0,\n",
       "          0,   0,   0,   0,   0,   0,   0,   0,   0,   0,   0,   0,   0,\n",
       "          0,   0],\n",
       "       [  0,   0,   0,   0,   0,   0,   0,   0,   0,   0,   0,   0,   0,\n",
       "          0,   0,   0,   0,   0,   0,   0,   0,   0,   0,   0,   0,   0,\n",
       "          0,   0],\n",
       "       [  0,   0,   0,   0,   0,   0,   0,   0,   0,   0,   0,  87, 138,\n",
       "        170, 253, 201, 244, 212, 222, 138,  86,  22,   0,   0,   0,   0,\n",
       "          0,   0],\n",
       "       [  0,   0,   0,   0,   0,   0,   0,   0,   0,   0,  95, 253, 252,\n",
       "        252, 252, 252, 253, 252, 252, 252, 252, 245,  80,   0,   0,   0,\n",
       "          0,   0],\n",
       "       [  0,   0,   0,   0,   0,   0,   0,   0,   0,  68, 246, 205,  69,\n",
       "         69,  69,  69,  69,  69,  69,  69, 205, 253, 240,  50,   0,   0,\n",
       "          0,   0],\n",
       "       [  0,   0,   0,   0,   0,   0,   0,   0,   0, 187, 252, 218,  34,\n",
       "          0,   0,   0,   0,   0,   0,   0, 116, 253, 252,  69,   0,   0,\n",
       "          0,   0],\n",
       "       [  0,   0,   0,   0,   0,   0,   0,   0, 116, 248, 252, 253,  92,\n",
       "          0,   0,   0,   0,   0,   0,  95, 230, 253, 157,   6,   0,   0,\n",
       "          0,   0],\n",
       "       [  0,   0,   0,   0,   0,   0,   0,   0, 116, 249, 253, 189,  42,\n",
       "          0,   0,   0,   0,  36, 170, 253, 243, 158,   0,   0,   0,   0,\n",
       "          0,   0],\n",
       "       [  0,   0,   0,   0,   0,   0,   0,   0,   0, 133, 252, 245, 140,\n",
       "         34,   0,   0,  57, 219, 252, 235,  60,   0,   0,   0,   0,   0,\n",
       "          0,   0],\n",
       "       [  0,   0,   0,   0,   0,   0,   0,   0,   0,  25, 205, 253, 252,\n",
       "        234, 184, 184, 253, 240, 100,  44,   0,   0,   0,   0,   0,   0,\n",
       "          0,   0],\n",
       "       [  0,   0,   0,   0,   0,   0,   0,   0,   0,   0,  21, 161, 219,\n",
       "        252, 252, 252, 234,  37,   0,   0,   0,   0,   0,   0,   0,   0,\n",
       "          0,   0],\n",
       "       [  0,   0,   0,   0,   0,   0,   0,   0,   0,   0,   0,  11, 203,\n",
       "        252, 252, 252, 251, 135,   0,   0,   0,   0,   0,   0,   0,   0,\n",
       "          0,   0],\n",
       "       [  0,   0,   0,   0,   0,   0,   0,   0,   0,   9,  76, 255, 253,\n",
       "        205, 168, 220, 255, 253, 137,   5,   0,   0,   0,   0,   0,   0,\n",
       "          0,   0],\n",
       "       [  0,   0,   0,   0,   0,   0,   0,   0,   0, 114, 252, 249, 132,\n",
       "         25,   0,   0, 180, 252, 252,  45,   0,   0,   0,   0,   0,   0,\n",
       "          0,   0],\n",
       "       [  0,   0,   0,   0,   0,   0,   0,   0,  51, 220, 252, 199,   0,\n",
       "          0,   0,   0,  38, 186, 252, 154,   7,   0,   0,   0,   0,   0,\n",
       "          0,   0],\n",
       "       [  0,   0,   0,   0,   0,   0,   0,   0, 184, 252, 252,  21,   0,\n",
       "          0,   0,   0,   0,  67, 252, 252,  22,   0,   0,   0,   0,   0,\n",
       "          0,   0],\n",
       "       [  0,   0,   0,   0,   0,   0,   0,   0, 184, 252, 200,   0,   0,\n",
       "          0,   0,   0,   0,  47, 252, 252,  22,   0,   0,   0,   0,   0,\n",
       "          0,   0],\n",
       "       [  0,   0,   0,   0,   0,   0,   0,   0, 185, 253, 201,   0,   0,\n",
       "          0,   0,   0,   3, 118, 253, 245,  21,   0,   0,   0,   0,   0,\n",
       "          0,   0],\n",
       "       [  0,   0,   0,   0,   0,   0,   0,   0, 163, 252, 252,   0,   0,\n",
       "          0,   0,   0,  97, 252, 252,  87,   0,   0,   0,   0,   0,   0,\n",
       "          0,   0],\n",
       "       [  0,   0,   0,   0,   0,   0,   0,   0,  51, 240, 252, 123,  70,\n",
       "         70, 112, 184, 222, 252, 170,  13,   0,   0,   0,   0,   0,   0,\n",
       "          0,   0],\n",
       "       [  0,   0,   0,   0,   0,   0,   0,   0,   0, 165, 252, 253, 252,\n",
       "        252, 252, 252, 245, 139,  13,   0,   0,   0,   0,   0,   0,   0,\n",
       "          0,   0],\n",
       "       [  0,   0,   0,   0,   0,   0,   0,   0,   0,   9,  75, 253, 252,\n",
       "        221, 137, 137,  21,   0,   0,   0,   0,   0,   0,   0,   0,   0,\n",
       "          0,   0],\n",
       "       [  0,   0,   0,   0,   0,   0,   0,   0,   0,   0,   0,   0,   0,\n",
       "          0,   0,   0,   0,   0,   0,   0,   0,   0,   0,   0,   0,   0,\n",
       "          0,   0],\n",
       "       [  0,   0,   0,   0,   0,   0,   0,   0,   0,   0,   0,   0,   0,\n",
       "          0,   0,   0,   0,   0,   0,   0,   0,   0,   0,   0,   0,   0,\n",
       "          0,   0],\n",
       "       [  0,   0,   0,   0,   0,   0,   0,   0,   0,   0,   0,   0,   0,\n",
       "          0,   0,   0,   0,   0,   0,   0,   0,   0,   0,   0,   0,   0,\n",
       "          0,   0]], dtype=uint8)"
      ]
     },
     "execution_count": 9,
     "metadata": {},
     "output_type": "execute_result"
    }
   ],
   "source": [
    "#Let's just look at a particular example to see what is inside\n",
    "x_train[333]"
   ]
  },
  {
   "cell_type": "code",
   "execution_count": 10,
   "metadata": {},
   "outputs": [
    {
     "data": {
      "text/plain": [
       "8"
      ]
     },
     "execution_count": 10,
     "metadata": {},
     "output_type": "execute_result"
    }
   ],
   "source": [
    "# What is the corresponding label in the training set?\n",
    "y_train[333]"
   ]
  },
  {
   "cell_type": "code",
   "execution_count": 13,
   "metadata": {},
   "outputs": [
    {
     "data": {
      "text/plain": [
       "<matplotlib.image.AxesImage at 0x1a86f571080>"
      ]
     },
     "execution_count": 13,
     "metadata": {},
     "output_type": "execute_result"
    },
    {
     "data": {
      "image/png": "[encoded data removed]",
      "text/plain": [
       "<Figure size 432x288 with 1 Axes>"
      ]
     },
     "metadata": {
      "needs_background": "light"
     },
     "output_type": "display_data"
    }
   ],
   "source": [
    "# Let's see what this image actually looks like\n",
    "plt.imshow(x_train[333], cmap='Greys_r')"
   ]
  },
  {
   "cell_type": "code",
   "execution_count": 14,
   "metadata": {},
   "outputs": [
    {
     "name": "stdout",
     "output_type": "stream",
     "text": [
      "(60000, 28, 28) train samples\n",
      "(10000, 28, 28) test samples\n"
     ]
    }
   ],
   "source": [
    "# this is the shape of the np.array x_train\n",
    "# it is 3 dimensional.\n",
    "print(x_train.shape, 'train samples')\n",
    "print(x_test.shape, 'test samples')"
   ]
  },
  {
   "cell_type": "code",
   "execution_count": 15,
   "metadata": {},
   "outputs": [],
   "source": [
    "## For our purposes, these images are just a vector of 784 inputs, so let's convert\n",
    "x_train = x_train.reshape(len(x_train), 28*28)\n",
    "x_test  = x_test.reshape(len(x_test), 28*28)\n",
    "\n",
    "## Keras works with floats, so we must cast the numbers to floats\n",
    "x_train = x_train.astype('float32')\n",
    "x_test  = x_test.astype('float32')\n",
    "\n",
    "## Normalize the inputs so they are between 0 and 1\n",
    "x_train /= 255\n",
    "x_test  /= 255"
   ]
  },
  {
   "cell_type": "code",
   "execution_count": 16,
   "metadata": {},
   "outputs": [
    {
     "data": {
      "text/plain": [
       "array([0., 0., 0., 0., 0., 0., 0., 0., 1., 0.], dtype=float32)"
      ]
     },
     "execution_count": 16,
     "metadata": {},
     "output_type": "execute_result"
    }
   ],
   "source": [
    "# convert class vectors to binary class matrices\n",
    "num_classes = 10\n",
    "y_train = keras.utils.to_categorical(y_train, num_classes)\n",
    "y_test  = keras.utils.to_categorical(y_test, num_classes)\n",
    "\n",
    "# now the digit k is represented by a 1 in the kth entry (0-indexed) of the length 10 vector\n",
    "y_train[333]"
   ]
  },
  {
   "cell_type": "code",
   "execution_count": 17,
   "metadata": {},
   "outputs": [
    {
     "name": "stdout",
     "output_type": "stream",
     "text": [
      "WARNING:tensorflow:From C:\\Users\\lucas\\AppData\\Roaming\\Python\\Python36\\site-packages\\tensorflow_core\\python\\ops\\resource_variable_ops.py:1630: calling BaseResourceVariable.__init__ (from tensorflow.python.ops.resource_variable_ops) with constraint is deprecated and will be removed in a future version.\n",
      "Instructions for updating:\n",
      "If using Keras pass *_constraint arguments to layers.\n"
     ]
    }
   ],
   "source": [
    "# We will build a model with two hidden layers of size 512\n",
    "# Fully connected inputs at each layer\n",
    "# We will use dropout of .2 to help regularize\n",
    "model_1 = Sequential([\n",
    "    Dense(64, activation='relu', input_shape=(784,)),\n",
    "    Dropout(.02),\n",
    "    Dense(64, activation='relu'),\n",
    "    Dropout(.02),\n",
    "    Dense(10, activation='softmax'),\n",
    "])"
   ]
  },
  {
   "cell_type": "code",
   "execution_count": 20,
   "metadata": {},
   "outputs": [
    {
     "name": "stdout",
     "output_type": "stream",
     "text": [
      "Model: \"sequential\"\n",
      "_________________________________________________________________\n",
      "Layer (type)                 Output Shape              Param #   \n",
      "=================================================================\n",
      "dense (Dense)                (None, 64)                50240     \n",
      "_________________________________________________________________\n",
      "dropout (Dropout)            (None, 64)                0         \n",
      "_________________________________________________________________\n",
      "dense_1 (Dense)              (None, 64)                4160      \n",
      "_________________________________________________________________\n",
      "dropout_1 (Dropout)          (None, 64)                0         \n",
      "_________________________________________________________________\n",
      "dense_2 (Dense)              (None, 10)                650       \n",
      "=================================================================\n",
      "Total params: 55,050\n",
      "Trainable params: 55,050\n",
      "Non-trainable params: 0\n",
      "_________________________________________________________________\n"
     ]
    }
   ],
   "source": [
    "## Note that this model has a LOT of parameters\n",
    "model_1.summary()"
   ]
  },
  {
   "cell_type": "code",
   "execution_count": 21,
   "metadata": {},
   "outputs": [],
   "source": [
    "# Let's compile the model\n",
    "learning_rate = .001\n",
    "model_1.compile(loss='categorical_crossentropy',\n",
    "               optimizer=RMSprop(lr=learning_rate),\n",
    "                metrics=['accuracy'])\n",
    "\n",
    "# note that `categorical cross entropy` is the natural generalization \n",
    "# of the loss function we had in binary classification case, to multi class case"
   ]
  },
  {
   "cell_type": "code",
   "execution_count": 22,
   "metadata": {},
   "outputs": [
    {
     "name": "stdout",
     "output_type": "stream",
     "text": [
      "Train on 60000 samples, validate on 10000 samples\n",
      "Epoch 1/30\n",
      "60000/60000 [==============================] - 2s 25us/sample - loss: 0.3783 - acc: 0.8937 - val_loss: 0.1963 - val_acc: 0.9438\n",
      "Epoch 2/30\n",
      "60000/60000 [==============================] - 1s 25us/sample - loss: 0.1747 - acc: 0.9474 - val_loss: 0.1288 - val_acc: 0.9615\n",
      "Epoch 3/30\n",
      "60000/60000 [==============================] - 2s 32us/sample - loss: 0.1303 - acc: 0.9606 - val_loss: 0.1303 - val_acc: 0.9604\n",
      "Epoch 4/30\n",
      "60000/60000 [==============================] - 1s 23us/sample - loss: 0.1053 - acc: 0.9685 - val_loss: 0.0942 - val_acc: 0.9711\n",
      "Epoch 5/30\n",
      "60000/60000 [==============================] - 1s 24us/sample - loss: 0.0878 - acc: 0.9736 - val_loss: 0.0925 - val_acc: 0.9729\n",
      "Epoch 6/30\n",
      "60000/60000 [==============================] - 1s 22us/sample - loss: 0.0773 - acc: 0.9765 - val_loss: 0.0886 - val_acc: 0.9732\n",
      "Epoch 7/30\n",
      "60000/60000 [==============================] - 1s 24us/sample - loss: 0.0691 - acc: 0.9788 - val_loss: 0.0875 - val_acc: 0.9725\n",
      "Epoch 8/30\n",
      "60000/60000 [==============================] - 1s 22us/sample - loss: 0.0625 - acc: 0.9807 - val_loss: 0.0844 - val_acc: 0.9728\n",
      "Epoch 9/30\n",
      "60000/60000 [==============================] - 1s 22us/sample - loss: 0.0560 - acc: 0.9820 - val_loss: 0.0876 - val_acc: 0.9721\n",
      "Epoch 10/30\n",
      "60000/60000 [==============================] - 1s 22us/sample - loss: 0.0504 - acc: 0.9836 - val_loss: 0.0837 - val_acc: 0.9749\n",
      "Epoch 11/30\n",
      "60000/60000 [==============================] - 1s 24us/sample - loss: 0.0467 - acc: 0.9854 - val_loss: 0.0821 - val_acc: 0.9756\n",
      "Epoch 12/30\n",
      "60000/60000 [==============================] - 2s 27us/sample - loss: 0.0444 - acc: 0.9861 - val_loss: 0.0834 - val_acc: 0.9748\n",
      "Epoch 13/30\n",
      "60000/60000 [==============================] - 1s 23us/sample - loss: 0.0406 - acc: 0.9875 - val_loss: 0.0839 - val_acc: 0.9757\n",
      "Epoch 14/30\n",
      "60000/60000 [==============================] - 1s 24us/sample - loss: 0.0373 - acc: 0.9883 - val_loss: 0.0821 - val_acc: 0.9764\n",
      "Epoch 15/30\n",
      "60000/60000 [==============================] - 1s 23us/sample - loss: 0.0344 - acc: 0.9892 - val_loss: 0.0929 - val_acc: 0.9734\n",
      "Epoch 16/30\n",
      "60000/60000 [==============================] - 2s 26us/sample - loss: 0.0334 - acc: 0.9896 - val_loss: 0.0899 - val_acc: 0.9751\n",
      "Epoch 17/30\n",
      "60000/60000 [==============================] - 1s 22us/sample - loss: 0.0313 - acc: 0.9898 - val_loss: 0.0822 - val_acc: 0.9767\n",
      "Epoch 18/30\n",
      "60000/60000 [==============================] - 1s 22us/sample - loss: 0.0299 - acc: 0.9906 - val_loss: 0.0853 - val_acc: 0.9764\n",
      "Epoch 19/30\n",
      "60000/60000 [==============================] - 1s 22us/sample - loss: 0.0272 - acc: 0.9913 - val_loss: 0.0871 - val_acc: 0.9752\n",
      "Epoch 20/30\n",
      "60000/60000 [==============================] - 1s 24us/sample - loss: 0.0246 - acc: 0.9921 - val_loss: 0.0893 - val_acc: 0.9774\n",
      "Epoch 21/30\n",
      "60000/60000 [==============================] - 1s 24us/sample - loss: 0.0245 - acc: 0.9922 - val_loss: 0.0967 - val_acc: 0.9755\n",
      "Epoch 22/30\n",
      "60000/60000 [==============================] - 1s 22us/sample - loss: 0.0240 - acc: 0.9924 - val_loss: 0.1037 - val_acc: 0.9746\n",
      "Epoch 23/30\n",
      "60000/60000 [==============================] - 1s 22us/sample - loss: 0.0216 - acc: 0.9931 - val_loss: 0.0987 - val_acc: 0.9755\n",
      "Epoch 24/30\n",
      "60000/60000 [==============================] - 1s 22us/sample - loss: 0.0216 - acc: 0.9934 - val_loss: 0.1007 - val_acc: 0.9764\n",
      "Epoch 25/30\n",
      "60000/60000 [==============================] - 2s 25us/sample - loss: 0.0197 - acc: 0.9937 - val_loss: 0.1044 - val_acc: 0.9745\n",
      "Epoch 26/30\n",
      "60000/60000 [==============================] - 1s 22us/sample - loss: 0.0201 - acc: 0.9934 - val_loss: 0.1031 - val_acc: 0.9768\n",
      "Epoch 27/30\n",
      "60000/60000 [==============================] - 1s 22us/sample - loss: 0.0182 - acc: 0.9945 - val_loss: 0.1111 - val_acc: 0.9772\n",
      "Epoch 28/30\n",
      "60000/60000 [==============================] - 1s 22us/sample - loss: 0.0180 - acc: 0.9945 - val_loss: 0.1052 - val_acc: 0.9770\n",
      "Epoch 29/30\n",
      "60000/60000 [==============================] - 1s 24us/sample - loss: 0.0185 - acc: 0.9941 - val_loss: 0.1068 - val_acc: 0.9769\n",
      "Epoch 30/30\n",
      "60000/60000 [==============================] - 1s 24us/sample - loss: 0.0177 - acc: 0.9944 - val_loss: 0.1120 - val_acc: 0.9745\n"
     ]
    }
   ],
   "source": [
    "# And now let's fit.\n",
    "batch_size = 128\n",
    "epochs = 30\n",
    "history_1 = model_1.fit(x_train, y_train,\n",
    "                       batch_size=batch_size,\n",
    "                       epochs=epochs,\n",
    "                       verbose=1,\n",
    "                       validation_data=(x_test, y_test))"
   ]
  },
  {
   "cell_type": "code",
   "execution_count": 23,
   "metadata": {},
   "outputs": [
    {
     "name": "stdout",
     "output_type": "stream",
     "text": [
      "Test loss: 0.1120081445962226\n",
      "Test accuracy: 0.9745\n"
     ]
    }
   ],
   "source": [
    "## We will use Keras evaluate function to evaluate performance on the test set\n",
    "score = model_1.evaluate(x_test, y_test, verbose=0)\n",
    "print('Test loss:', score[0])\n",
    "print('Test accuracy:', score[1])"
   ]
  },
  {
   "cell_type": "code",
   "execution_count": 15,
   "metadata": {},
   "outputs": [],
   "source": [
    "def plot_loss_accuracy(history):\n",
    "    fig = plt.figure(figsize=(12, 6))\n",
    "    ax = fig.add_subplot(1, 2, 1)\n",
    "    ax.plot(history.history[\"loss\"],'r-x', label=\"Train Loss\")\n",
    "    ax.plot(history.history[\"val_loss\"],'b-x', label=\"Validation Loss\")\n",
    "    ax.legend()\n",
    "    ax.set_title('cross_entropy loss')\n",
    "    ax.grid(True)\n",
    "\n",
    "\n",
    "    ax = fig.add_subplot(1, 2, 2)\n",
    "    ax.plot(history.history[\"acc\"],'r-x', label=\"Train Accuracy\")\n",
    "    ax.plot(history.history[\"val_acc\"],'b-x', label=\"Validation Accuracy\")\n",
    "    ax.legend()\n",
    "    ax.set_title('accuracy')\n",
    "    ax.grid(True)\n",
    "    \n",
    "\n"
   ]
  },
  {
   "cell_type": "markdown",
   "metadata": {},
   "source": [
    "This is reasonably good performance, but we can do even better!  Next you will build an even bigger network and compare the performance."
   ]
  },
  {
   "cell_type": "markdown",
   "metadata": {},
   "source": [
    "## Exercise\n",
    "### Your Turn: Build your own model\n",
    "Use the Keras \"Sequential\" functionality to build `model_2` with the following specifications:\n",
    "\n",
    "1. Two hidden layers.\n",
    "2. First hidden layer of size 400 and second of size 300\n",
    "3. Dropout of .4 at each layer\n",
    "4. How many parameters does your model have?  How does it compare with the previous model?\n",
    "4. Train this model for 20 epochs with RMSProp at a learning rate of .001 and a batch size of 128\n",
    "\n",
    "\n"
   ]
  },
  {
   "cell_type": "code",
   "execution_count": 26,
   "metadata": {},
   "outputs": [
    {
     "name": "stdout",
     "output_type": "stream",
     "text": [
      "Model: \"sequential_2\"\n",
      "_________________________________________________________________\n",
      "Layer (type)                 Output Shape              Param #   \n",
      "=================================================================\n",
      "dense_6 (Dense)              (None, 400)               314000    \n",
      "_________________________________________________________________\n",
      "dropout_4 (Dropout)          (None, 400)               0         \n",
      "_________________________________________________________________\n",
      "dense_7 (Dense)              (None, 300)               120300    \n",
      "_________________________________________________________________\n",
      "dropout_5 (Dropout)          (None, 300)               0         \n",
      "_________________________________________________________________\n",
      "dense_8 (Dense)              (None, 10)                3010      \n",
      "=================================================================\n",
      "Total params: 437,310\n",
      "Trainable params: 437,310\n",
      "Non-trainable params: 0\n",
      "_________________________________________________________________\n"
     ]
    }
   ],
   "source": [
    "### Build your model here\n",
    "model_2 = Sequential([\n",
    "    Dense(400, activation='relu', input_shape=(784,)),\n",
    "    Dropout(.04),\n",
    "    Dense(300, activation='relu'),\n",
    "    Dropout(.04),\n",
    "    Dense(10, activation='softmax'),\n",
    "])\n",
    "\n",
    "model_2.summary()\n",
    "# model_1: 55,050\n",
    "# mode_2: 437,310\n",
    "# this model has 382,260 params/weights to learn"
   ]
  },
  {
   "cell_type": "code",
   "execution_count": 27,
   "metadata": {},
   "outputs": [],
   "source": [
    "learning_rate = .001\n",
    "model_2.compile(loss='categorical_crossentropy',\n",
    "               optimizer=RMSprop(lr=learning_rate),\n",
    "                metrics=['accuracy'])"
   ]
  },
  {
   "cell_type": "markdown",
   "metadata": {},
   "source": [
    "## SOLUTION"
   ]
  },
  {
   "cell_type": "code",
   "execution_count": 28,
   "metadata": {},
   "outputs": [
    {
     "name": "stdout",
     "output_type": "stream",
     "text": [
      "Train on 60000 samples, validate on 10000 samples\n",
      "Epoch 1/20\n",
      "60000/60000 [==============================] - 4s 70us/sample - loss: 0.2357 - acc: 0.9276 - val_loss: 0.1204 - val_acc: 0.9621\n",
      "Epoch 2/20\n",
      "60000/60000 [==============================] - 4s 67us/sample - loss: 0.0888 - acc: 0.9725 - val_loss: 0.0772 - val_acc: 0.9741\n",
      "Epoch 3/20\n",
      "60000/60000 [==============================] - 4s 62us/sample - loss: 0.0597 - acc: 0.9814 - val_loss: 0.0768 - val_acc: 0.9775\n",
      "Epoch 4/20\n",
      "60000/60000 [==============================] - 4s 65us/sample - loss: 0.0438 - acc: 0.9868 - val_loss: 0.0827 - val_acc: 0.9767\n",
      "Epoch 5/20\n",
      "60000/60000 [==============================] - 4s 68us/sample - loss: 0.0351 - acc: 0.9889 - val_loss: 0.0901 - val_acc: 0.9770\n",
      "Epoch 6/20\n",
      "60000/60000 [==============================] - 4s 63us/sample - loss: 0.0277 - acc: 0.9911 - val_loss: 0.0818 - val_acc: 0.9787\n",
      "Epoch 7/20\n",
      "60000/60000 [==============================] - 4s 63us/sample - loss: 0.0232 - acc: 0.9925 - val_loss: 0.0864 - val_acc: 0.9812\n",
      "Epoch 8/20\n",
      "60000/60000 [==============================] - 4s 62us/sample - loss: 0.0180 - acc: 0.9943 - val_loss: 0.0954 - val_acc: 0.9796\n",
      "Epoch 9/20\n",
      "60000/60000 [==============================] - 4s 62us/sample - loss: 0.0166 - acc: 0.9950 - val_loss: 0.0962 - val_acc: 0.9808\n",
      "Epoch 10/20\n",
      "60000/60000 [==============================] - 4s 66us/sample - loss: 0.0132 - acc: 0.9958 - val_loss: 0.0918 - val_acc: 0.9833\n",
      "Epoch 11/20\n",
      "60000/60000 [==============================] - 4s 59us/sample - loss: 0.0126 - acc: 0.9961 - val_loss: 0.1029 - val_acc: 0.9804\n",
      "Epoch 12/20\n",
      "60000/60000 [==============================] - 4s 63us/sample - loss: 0.0109 - acc: 0.9966 - val_loss: 0.1118 - val_acc: 0.9818\n",
      "Epoch 13/20\n",
      "60000/60000 [==============================] - 4s 59us/sample - loss: 0.0096 - acc: 0.9970 - val_loss: 0.1060 - val_acc: 0.9822\n",
      "Epoch 14/20\n",
      "60000/60000 [==============================] - 4s 62us/sample - loss: 0.0092 - acc: 0.9971 - val_loss: 0.1142 - val_acc: 0.9833\n",
      "Epoch 15/20\n",
      "60000/60000 [==============================] - 4s 61us/sample - loss: 0.0085 - acc: 0.9975 - val_loss: 0.1185 - val_acc: 0.9824\n",
      "Epoch 16/20\n",
      "60000/60000 [==============================] - 4s 62us/sample - loss: 0.0085 - acc: 0.9973 - val_loss: 0.1286 - val_acc: 0.9808\n",
      "Epoch 17/20\n",
      "60000/60000 [==============================] - 4s 62us/sample - loss: 0.0064 - acc: 0.9979 - val_loss: 0.1261 - val_acc: 0.9827\n",
      "Epoch 18/20\n",
      "60000/60000 [==============================] - 4s 61us/sample - loss: 0.0069 - acc: 0.9981 - val_loss: 0.1343 - val_acc: 0.9822\n",
      "Epoch 19/20\n",
      "60000/60000 [==============================] - 4s 65us/sample - loss: 0.0058 - acc: 0.9984 - val_loss: 0.1380 - val_acc: 0.9821\n",
      "Epoch 20/20\n",
      "60000/60000 [==============================] - 3s 58us/sample - loss: 0.0053 - acc: 0.9982 - val_loss: 0.1351 - val_acc: 0.9828\n"
     ]
    }
   ],
   "source": [
    "batch_size = 128\n",
    "epochs = 20\n",
    "history_2 = model_2.fit(x_train, y_train,\n",
    "                       batch_size=batch_size,\n",
    "                       epochs=epochs,\n",
    "                       verbose=1,\n",
    "                       validation_data=(x_test, y_test))"
   ]
  },
  {
   "cell_type": "markdown",
   "metadata": {
    "collapsed": true
   },
   "source": [
    "## Think about the following questions\n",
    "\n",
    "1) How do model_1 and model_2 compare?  Which do you prefer?  If you were going to put one into production, which would you choose and why?\n",
    "\n",
    "2) Compare the trajectories of the loss function on the training set and test set for each model?  How do they compare?  What does that suggest about each model?  Do the same for accuracy?  Which do you think is more meaningful, the loss or the accuracy?\n",
    "\n",
    "3) Suggest an improvement to one of the models (changing structure, learning rate, number of epochs, etc.) that you think will result in a better model.  Try it out below?  Did it improve the performance?"
   ]
  },
  {
   "cell_type": "code",
   "execution_count": null,
   "metadata": {},
   "outputs": [],
   "source": []
  }
 ],
 "metadata": {
  "kernelspec": {
   "display_name": "Python 3",
   "language": "python",
   "name": "python3"
  },
  "language_info": {
   "codemirror_mode": {
    "name": "ipython",
    "version": 3
   },
   "file_extension": ".py",
   "mimetype": "text/x-python",
   "name": "python",
   "nbconvert_exporter": "python",
   "pygments_lexer": "ipython3",
   "version": "3.6.5"
  }
 },
 "nbformat": 4,
 "nbformat_minor": 1
}
